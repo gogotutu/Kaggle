{
 "cells": [
  {
   "cell_type": "code",
   "execution_count": 2,
   "metadata": {
    "collapsed": true
   },
   "outputs": [],
   "source": [
    "import numpy as np\n",
    "import pandas as pd\n",
    "import matplotlib.pyplot as plt\n",
    "import os\n",
    "import gc\n",
    "import seaborn as sns\n",
    "%matplotlib inline\n",
    "\n",
    "p = sns.color_palette()"
   ]
  },
  {
   "cell_type": "code",
   "execution_count": 3,
   "metadata": {
    "collapsed": false
   },
   "outputs": [
    {
     "name": "stdout",
     "output_type": "stream",
     "text": [
      "# All file and their sizes:\n",
      "\n",
      "clicks_test.csv               506.95MB\n",
      "clicks_train.csv              1486.73MB\n",
      "documents_categories.csv      118.02MB\n",
      "documents_entities.csv        324.1MB\n",
      "documents_meta.csv            89.38MB\n",
      "documents_topics.csv          339.47MB\n",
      "events.csv                    1208.55MB\n",
      "page_views_sample.csv         454.35MB\n",
      "promoted_content.csv          13.89MB\n",
      "sample_submission.csv         273.14MB\n",
      "sub1.csv                      273.14MB\n"
     ]
    }
   ],
   "source": [
    "print \"# All file and their sizes:\"\n",
    "print\n",
    "for f in os.listdir('../Outbrain'):\n",
    "    if \".csv\" in f:\n",
    "        print f.ljust(30) + str(round(os.path.getsize('../Outbrain/' + f) / 1e6, 2)) + 'MB'"
   ]
  },
  {
   "cell_type": "markdown",
   "metadata": {},
   "source": [
    "We are missing the \"```page_views.csv```\" file, because it is over 100GB unzipped. So, we just look into the page_views_sample.csv instead on developing our analysis."
   ]
  },
  {
   "cell_type": "code",
   "execution_count": 4,
   "metadata": {
    "collapsed": false
   },
   "outputs": [],
   "source": [
    "clicks_test = pd.read_csv('clicks_test.csv')\n",
    "clicks_train = pd.read_csv('clicks_train.csv')"
   ]
  },
  {
   "cell_type": "code",
   "execution_count": 6,
   "metadata": {
    "collapsed": false
   },
   "outputs": [
    {
     "name": "stdout",
     "output_type": "stream",
     "text": [
      " Variable names: \n",
      "\n",
      "clicks_test                    ['display_id' 'ad_id']\n",
      "clicks_train                   ['display_id' 'ad_id' 'clicked']\n"
     ]
    }
   ],
   "source": [
    "print \"Variable names: \"\n",
    "print \n",
    "print \"clicks_test\".ljust(30), clicks_test.columns.values\n",
    "print \"clicks_train\".ljust(30), clicks_train.columns.values"
   ]
  },
  {
   "cell_type": "code",
   "execution_count": 7,
   "metadata": {
    "collapsed": false
   },
   "outputs": [
    {
     "data": {
      "text/html": [
       "<div>\n",
       "<table border=\"1\" class=\"dataframe\">\n",
       "  <thead>\n",
       "    <tr style=\"text-align: right;\">\n",
       "      <th></th>\n",
       "      <th>display_id</th>\n",
       "      <th>ad_id</th>\n",
       "      <th>clicked</th>\n",
       "    </tr>\n",
       "  </thead>\n",
       "  <tbody>\n",
       "    <tr>\n",
       "      <th>0</th>\n",
       "      <td>1</td>\n",
       "      <td>42337</td>\n",
       "      <td>0</td>\n",
       "    </tr>\n",
       "    <tr>\n",
       "      <th>1</th>\n",
       "      <td>1</td>\n",
       "      <td>139684</td>\n",
       "      <td>0</td>\n",
       "    </tr>\n",
       "    <tr>\n",
       "      <th>2</th>\n",
       "      <td>1</td>\n",
       "      <td>144739</td>\n",
       "      <td>1</td>\n",
       "    </tr>\n",
       "    <tr>\n",
       "      <th>3</th>\n",
       "      <td>1</td>\n",
       "      <td>156824</td>\n",
       "      <td>0</td>\n",
       "    </tr>\n",
       "    <tr>\n",
       "      <th>4</th>\n",
       "      <td>1</td>\n",
       "      <td>279295</td>\n",
       "      <td>0</td>\n",
       "    </tr>\n",
       "    <tr>\n",
       "      <th>5</th>\n",
       "      <td>1</td>\n",
       "      <td>296965</td>\n",
       "      <td>0</td>\n",
       "    </tr>\n",
       "    <tr>\n",
       "      <th>6</th>\n",
       "      <td>2</td>\n",
       "      <td>125211</td>\n",
       "      <td>0</td>\n",
       "    </tr>\n",
       "    <tr>\n",
       "      <th>7</th>\n",
       "      <td>2</td>\n",
       "      <td>156535</td>\n",
       "      <td>0</td>\n",
       "    </tr>\n",
       "    <tr>\n",
       "      <th>8</th>\n",
       "      <td>2</td>\n",
       "      <td>169564</td>\n",
       "      <td>0</td>\n",
       "    </tr>\n",
       "    <tr>\n",
       "      <th>9</th>\n",
       "      <td>2</td>\n",
       "      <td>308455</td>\n",
       "      <td>1</td>\n",
       "    </tr>\n",
       "    <tr>\n",
       "      <th>10</th>\n",
       "      <td>3</td>\n",
       "      <td>71547</td>\n",
       "      <td>0</td>\n",
       "    </tr>\n",
       "    <tr>\n",
       "      <th>11</th>\n",
       "      <td>3</td>\n",
       "      <td>95814</td>\n",
       "      <td>0</td>\n",
       "    </tr>\n",
       "    <tr>\n",
       "      <th>12</th>\n",
       "      <td>3</td>\n",
       "      <td>152141</td>\n",
       "      <td>0</td>\n",
       "    </tr>\n",
       "    <tr>\n",
       "      <th>13</th>\n",
       "      <td>3</td>\n",
       "      <td>183846</td>\n",
       "      <td>0</td>\n",
       "    </tr>\n",
       "    <tr>\n",
       "      <th>14</th>\n",
       "      <td>3</td>\n",
       "      <td>228657</td>\n",
       "      <td>1</td>\n",
       "    </tr>\n",
       "    <tr>\n",
       "      <th>15</th>\n",
       "      <td>3</td>\n",
       "      <td>250082</td>\n",
       "      <td>0</td>\n",
       "    </tr>\n",
       "    <tr>\n",
       "      <th>16</th>\n",
       "      <td>4</td>\n",
       "      <td>149930</td>\n",
       "      <td>0</td>\n",
       "    </tr>\n",
       "    <tr>\n",
       "      <th>17</th>\n",
       "      <td>4</td>\n",
       "      <td>153623</td>\n",
       "      <td>1</td>\n",
       "    </tr>\n",
       "    <tr>\n",
       "      <th>18</th>\n",
       "      <td>4</td>\n",
       "      <td>184709</td>\n",
       "      <td>0</td>\n",
       "    </tr>\n",
       "    <tr>\n",
       "      <th>19</th>\n",
       "      <td>4</td>\n",
       "      <td>186849</td>\n",
       "      <td>0</td>\n",
       "    </tr>\n",
       "    <tr>\n",
       "      <th>20</th>\n",
       "      <td>4</td>\n",
       "      <td>233730</td>\n",
       "      <td>0</td>\n",
       "    </tr>\n",
       "    <tr>\n",
       "      <th>21</th>\n",
       "      <td>5</td>\n",
       "      <td>54606</td>\n",
       "      <td>0</td>\n",
       "    </tr>\n",
       "    <tr>\n",
       "      <th>22</th>\n",
       "      <td>5</td>\n",
       "      <td>162868</td>\n",
       "      <td>0</td>\n",
       "    </tr>\n",
       "    <tr>\n",
       "      <th>23</th>\n",
       "      <td>5</td>\n",
       "      <td>184548</td>\n",
       "      <td>0</td>\n",
       "    </tr>\n",
       "    <tr>\n",
       "      <th>24</th>\n",
       "      <td>5</td>\n",
       "      <td>282674</td>\n",
       "      <td>0</td>\n",
       "    </tr>\n",
       "    <tr>\n",
       "      <th>25</th>\n",
       "      <td>5</td>\n",
       "      <td>326514</td>\n",
       "      <td>1</td>\n",
       "    </tr>\n",
       "    <tr>\n",
       "      <th>26</th>\n",
       "      <td>6</td>\n",
       "      <td>85397</td>\n",
       "      <td>0</td>\n",
       "    </tr>\n",
       "    <tr>\n",
       "      <th>27</th>\n",
       "      <td>6</td>\n",
       "      <td>160754</td>\n",
       "      <td>0</td>\n",
       "    </tr>\n",
       "    <tr>\n",
       "      <th>28</th>\n",
       "      <td>6</td>\n",
       "      <td>173388</td>\n",
       "      <td>0</td>\n",
       "    </tr>\n",
       "    <tr>\n",
       "      <th>29</th>\n",
       "      <td>6</td>\n",
       "      <td>175234</td>\n",
       "      <td>1</td>\n",
       "    </tr>\n",
       "    <tr>\n",
       "      <th>...</th>\n",
       "      <td>...</td>\n",
       "      <td>...</td>\n",
       "      <td>...</td>\n",
       "    </tr>\n",
       "    <tr>\n",
       "      <th>87141701</th>\n",
       "      <td>16874588</td>\n",
       "      <td>23690</td>\n",
       "      <td>0</td>\n",
       "    </tr>\n",
       "    <tr>\n",
       "      <th>87141702</th>\n",
       "      <td>16874588</td>\n",
       "      <td>174903</td>\n",
       "      <td>0</td>\n",
       "    </tr>\n",
       "    <tr>\n",
       "      <th>87141703</th>\n",
       "      <td>16874588</td>\n",
       "      <td>468733</td>\n",
       "      <td>1</td>\n",
       "    </tr>\n",
       "    <tr>\n",
       "      <th>87141704</th>\n",
       "      <td>16874588</td>\n",
       "      <td>526478</td>\n",
       "      <td>0</td>\n",
       "    </tr>\n",
       "    <tr>\n",
       "      <th>87141705</th>\n",
       "      <td>16874589</td>\n",
       "      <td>3314</td>\n",
       "      <td>0</td>\n",
       "    </tr>\n",
       "    <tr>\n",
       "      <th>87141706</th>\n",
       "      <td>16874589</td>\n",
       "      <td>187175</td>\n",
       "      <td>0</td>\n",
       "    </tr>\n",
       "    <tr>\n",
       "      <th>87141707</th>\n",
       "      <td>16874589</td>\n",
       "      <td>188284</td>\n",
       "      <td>1</td>\n",
       "    </tr>\n",
       "    <tr>\n",
       "      <th>87141708</th>\n",
       "      <td>16874589</td>\n",
       "      <td>226819</td>\n",
       "      <td>0</td>\n",
       "    </tr>\n",
       "    <tr>\n",
       "      <th>87141709</th>\n",
       "      <td>16874589</td>\n",
       "      <td>243297</td>\n",
       "      <td>0</td>\n",
       "    </tr>\n",
       "    <tr>\n",
       "      <th>87141710</th>\n",
       "      <td>16874589</td>\n",
       "      <td>394670</td>\n",
       "      <td>0</td>\n",
       "    </tr>\n",
       "    <tr>\n",
       "      <th>87141711</th>\n",
       "      <td>16874590</td>\n",
       "      <td>35805</td>\n",
       "      <td>0</td>\n",
       "    </tr>\n",
       "    <tr>\n",
       "      <th>87141712</th>\n",
       "      <td>16874590</td>\n",
       "      <td>80235</td>\n",
       "      <td>0</td>\n",
       "    </tr>\n",
       "    <tr>\n",
       "      <th>87141713</th>\n",
       "      <td>16874590</td>\n",
       "      <td>132287</td>\n",
       "      <td>0</td>\n",
       "    </tr>\n",
       "    <tr>\n",
       "      <th>87141714</th>\n",
       "      <td>16874590</td>\n",
       "      <td>142604</td>\n",
       "      <td>1</td>\n",
       "    </tr>\n",
       "    <tr>\n",
       "      <th>87141715</th>\n",
       "      <td>16874590</td>\n",
       "      <td>142780</td>\n",
       "      <td>0</td>\n",
       "    </tr>\n",
       "    <tr>\n",
       "      <th>87141716</th>\n",
       "      <td>16874590</td>\n",
       "      <td>142816</td>\n",
       "      <td>0</td>\n",
       "    </tr>\n",
       "    <tr>\n",
       "      <th>87141717</th>\n",
       "      <td>16874591</td>\n",
       "      <td>36108</td>\n",
       "      <td>0</td>\n",
       "    </tr>\n",
       "    <tr>\n",
       "      <th>87141718</th>\n",
       "      <td>16874591</td>\n",
       "      <td>127047</td>\n",
       "      <td>1</td>\n",
       "    </tr>\n",
       "    <tr>\n",
       "      <th>87141719</th>\n",
       "      <td>16874591</td>\n",
       "      <td>145601</td>\n",
       "      <td>0</td>\n",
       "    </tr>\n",
       "    <tr>\n",
       "      <th>87141720</th>\n",
       "      <td>16874591</td>\n",
       "      <td>285839</td>\n",
       "      <td>0</td>\n",
       "    </tr>\n",
       "    <tr>\n",
       "      <th>87141721</th>\n",
       "      <td>16874591</td>\n",
       "      <td>397506</td>\n",
       "      <td>0</td>\n",
       "    </tr>\n",
       "    <tr>\n",
       "      <th>87141722</th>\n",
       "      <td>16874591</td>\n",
       "      <td>483448</td>\n",
       "      <td>0</td>\n",
       "    </tr>\n",
       "    <tr>\n",
       "      <th>87141723</th>\n",
       "      <td>16874592</td>\n",
       "      <td>82851</td>\n",
       "      <td>0</td>\n",
       "    </tr>\n",
       "    <tr>\n",
       "      <th>87141724</th>\n",
       "      <td>16874592</td>\n",
       "      <td>153244</td>\n",
       "      <td>1</td>\n",
       "    </tr>\n",
       "    <tr>\n",
       "      <th>87141725</th>\n",
       "      <td>16874592</td>\n",
       "      <td>167294</td>\n",
       "      <td>0</td>\n",
       "    </tr>\n",
       "    <tr>\n",
       "      <th>87141726</th>\n",
       "      <td>16874592</td>\n",
       "      <td>186600</td>\n",
       "      <td>0</td>\n",
       "    </tr>\n",
       "    <tr>\n",
       "      <th>87141727</th>\n",
       "      <td>16874593</td>\n",
       "      <td>151498</td>\n",
       "      <td>1</td>\n",
       "    </tr>\n",
       "    <tr>\n",
       "      <th>87141728</th>\n",
       "      <td>16874593</td>\n",
       "      <td>282350</td>\n",
       "      <td>0</td>\n",
       "    </tr>\n",
       "    <tr>\n",
       "      <th>87141729</th>\n",
       "      <td>16874593</td>\n",
       "      <td>521828</td>\n",
       "      <td>0</td>\n",
       "    </tr>\n",
       "    <tr>\n",
       "      <th>87141730</th>\n",
       "      <td>16874593</td>\n",
       "      <td>522693</td>\n",
       "      <td>0</td>\n",
       "    </tr>\n",
       "  </tbody>\n",
       "</table>\n",
       "<p>87141731 rows × 3 columns</p>\n",
       "</div>"
      ],
      "text/plain": [
       "          display_id   ad_id  clicked\n",
       "0                  1   42337        0\n",
       "1                  1  139684        0\n",
       "2                  1  144739        1\n",
       "3                  1  156824        0\n",
       "4                  1  279295        0\n",
       "5                  1  296965        0\n",
       "6                  2  125211        0\n",
       "7                  2  156535        0\n",
       "8                  2  169564        0\n",
       "9                  2  308455        1\n",
       "10                 3   71547        0\n",
       "11                 3   95814        0\n",
       "12                 3  152141        0\n",
       "13                 3  183846        0\n",
       "14                 3  228657        1\n",
       "15                 3  250082        0\n",
       "16                 4  149930        0\n",
       "17                 4  153623        1\n",
       "18                 4  184709        0\n",
       "19                 4  186849        0\n",
       "20                 4  233730        0\n",
       "21                 5   54606        0\n",
       "22                 5  162868        0\n",
       "23                 5  184548        0\n",
       "24                 5  282674        0\n",
       "25                 5  326514        1\n",
       "26                 6   85397        0\n",
       "27                 6  160754        0\n",
       "28                 6  173388        0\n",
       "29                 6  175234        1\n",
       "...              ...     ...      ...\n",
       "87141701    16874588   23690        0\n",
       "87141702    16874588  174903        0\n",
       "87141703    16874588  468733        1\n",
       "87141704    16874588  526478        0\n",
       "87141705    16874589    3314        0\n",
       "87141706    16874589  187175        0\n",
       "87141707    16874589  188284        1\n",
       "87141708    16874589  226819        0\n",
       "87141709    16874589  243297        0\n",
       "87141710    16874589  394670        0\n",
       "87141711    16874590   35805        0\n",
       "87141712    16874590   80235        0\n",
       "87141713    16874590  132287        0\n",
       "87141714    16874590  142604        1\n",
       "87141715    16874590  142780        0\n",
       "87141716    16874590  142816        0\n",
       "87141717    16874591   36108        0\n",
       "87141718    16874591  127047        1\n",
       "87141719    16874591  145601        0\n",
       "87141720    16874591  285839        0\n",
       "87141721    16874591  397506        0\n",
       "87141722    16874591  483448        0\n",
       "87141723    16874592   82851        0\n",
       "87141724    16874592  153244        1\n",
       "87141725    16874592  167294        0\n",
       "87141726    16874592  186600        0\n",
       "87141727    16874593  151498        1\n",
       "87141728    16874593  282350        0\n",
       "87141729    16874593  521828        0\n",
       "87141730    16874593  522693        0\n",
       "\n",
       "[87141731 rows x 3 columns]"
      ]
     },
     "execution_count": 7,
     "metadata": {},
     "output_type": "execute_result"
    }
   ],
   "source": [
    "clicks_train"
   ]
  },
  {
   "cell_type": "markdown",
   "metadata": {},
   "source": [
    "## The distribution of the number of ads in a display:"
   ]
  },
  {
   "cell_type": "code",
   "execution_count": 30,
   "metadata": {
    "collapsed": false
   },
   "outputs": [
    {
     "data": {
      "text/plain": [
       "<matplotlib.text.Text at 0x1155faad0>"
      ]
     },
     "execution_count": 30,
     "metadata": {},
     "output_type": "execute_result"
    },
    {
     "data": {
      "image/png": "[encoded data removed]",
      "text/plain": [
       "<matplotlib.figure.Figure at 0x1153f3f10>"
      ]
     },
     "metadata": {},
     "output_type": "display_data"
    }
   ],
   "source": [
    "num_ads = clicks_train.groupby(\"display_id\")[\"ad_id\"].count().value_counts()\n",
    "num_ads = num_ads / np.sum(num_ads)\n",
    "plt.figure(figsize=(12,4))\n",
    "sns.barplot(num_ads.index, num_ads.values, alpha=0.8, color=p[0])\n",
    "plt.xlabel(\"Number of Ads in Display\")\n",
    "plt.ylabel(\"Proportion of data\")\n",
    "plt.title(\"Training set\")"
   ]
  },
  {
   "cell_type": "code",
   "execution_count": 31,
   "metadata": {
    "collapsed": false
   },
   "outputs": [
    {
     "data": {
      "text/plain": [
       "<matplotlib.text.Text at 0x115b189d0>"
      ]
     },
     "execution_count": 31,
     "metadata": {},
     "output_type": "execute_result"
    },
    {
     "data": {
      "image/png": "[encoded data removed]",
      "text/plain": [
       "<matplotlib.figure.Figure at 0x115435990>"
      ]
     },
     "metadata": {},
     "output_type": "display_data"
    }
   ],
   "source": [
    "num_ads = clicks_test.groupby(\"display_id\")[\"ad_id\"].count().value_counts()\n",
    "num_ads = num_ads / np.sum(num_ads)\n",
    "plt.figure(figsize=(12,4))\n",
    "sns.barplot(num_ads.index, num_ads.values, alpha=0.8, color=p[0])\n",
    "plt.xlabel(\"Number of Ads in Display\")\n",
    "plt.ylabel(\"Proportion of data\")\n",
    "plt.title(\"Test set\")"
   ]
  },
  {
   "cell_type": "markdown",
   "metadata": {},
   "source": [
    "We can say that the distributions of the number of ads in display are the same for both training set and test set. The most frequency is 4 or 6 ads, the maximum are both 12. That is the reason why the evaluation uses $MAP@12$."
   ]
  },
  {
   "cell_type": "markdown",
   "metadata": {},
   "source": [
    "## Number of appearance, number of clicks and click rates for ads"
   ]
  },
  {
   "cell_type": "code",
   "execution_count": 42,
   "metadata": {
    "collapsed": false
   },
   "outputs": [],
   "source": [
    "num_appr = clicks_train.groupby(\"ad_id\")[\"ad_id\"].count()\n",
    "num_click = clicks_train.groupby(\"ad_id\")[\"clicked\"].sum()\n",
    "click_rate = (num_click + 0.0)/num_appr"
   ]
  },
  {
   "cell_type": "code",
   "execution_count": 74,
   "metadata": {
    "collapsed": false
   },
   "outputs": [
    {
     "name": "stdout",
     "output_type": "stream",
     "text": [
      "mean: 181.943273828\n",
      "max: 211824\n",
      "min: 1\n",
      "median: 5.0\n",
      "std 1910.68757307\n",
      "Ads that had appeared less than 2 times: 22.69%\n",
      "Ads that had appeared less than 10 times: 61.74%\n",
      "Ads that had appeared less than 50 times: 86.93%\n",
      "Ads that had appeared less than 100 times: 91.04%\n",
      "Ads that had appeared less than 1000 times: 97.45%\n"
     ]
    },
    {
     "data": {
      "image/png": "[encoded data removed]",
      "text/plain": [
       "<matplotlib.figure.Figure at 0x126716b50>"
      ]
     },
     "metadata": {},
     "output_type": "display_data"
    }
   ],
   "source": [
    "plt.figure(figsize=(12,4))\n",
    "plt.hist(num_appr, bins = 100, log = True)\n",
    "plt.xlabel(\"Number of appearance of ads\")\n",
    "plt.ylabel(\"Log(Count of ad_id)\")\n",
    "plt.title(\"Number of apperance\")\n",
    "print \"mean:\", num_appr.mean()\n",
    "print \"max:\", num_appr.max()\n",
    "print \"min:\", num_appr.min()\n",
    "print \"median:\", np.median(num_appr)\n",
    "print \"std\", np.std(num_appr)\n",
    "for i in [2, 10, 50, 100, 1000]:\n",
    "    print('Ads that had appeared less than {} times: {}%'.format(i, round((num_appr < i).mean() * 100, 2)))"
   ]
  },
  {
   "cell_type": "code",
   "execution_count": 77,
   "metadata": {
    "collapsed": false
   },
   "outputs": [
    {
     "name": "stdout",
     "output_type": "stream",
     "text": [
      "mean: 35.2324731183\n",
      "max: 44824\n",
      "min: 0\n",
      "median: 1.0\n",
      "std 422.647158861\n",
      "Ads that had been clicked less than 1 times: 46.94%\n",
      "Ads that had been clicked less than 2 times: 65.57%\n",
      "Ads that had been clicked less than 3 times: 73.85%\n",
      "Ads that had been clicked less than 10 times: 88.7%\n",
      "Ads that had been clicked less than 100 times: 96.59%\n",
      "Ads that had been clicked less than 1000 times: 99.31%\n"
     ]
    },
    {
     "data": {
      "image/png": "[encoded data removed]",
      "text/plain": [
       "<matplotlib.figure.Figure at 0x1266f9dd0>"
      ]
     },
     "metadata": {},
     "output_type": "display_data"
    }
   ],
   "source": [
    "plt.figure(figsize=(12,4))\n",
    "plt.hist(num_click, bins = 100, log = True)\n",
    "plt.xlabel(\"Number of clicks\")\n",
    "plt.ylabel(\"Log(Count of ad_id)\")\n",
    "plt.title(\"Number of clicks\")\n",
    "print \"mean:\", num_click.mean()\n",
    "print \"max:\", num_click.max()\n",
    "print \"min:\", num_click.min()\n",
    "print \"median:\", np.median(num_click)\n",
    "print \"std\", np.std(num_click)\n",
    "for i in [1, 2, 3, 10, 100, 1000]:\n",
    "    print('Ads that had been clicked less than {} times: {}%'.format(i, round((num_click < i).mean() * 100, 2)))"
   ]
  },
  {
   "cell_type": "code",
   "execution_count": 104,
   "metadata": {
    "collapsed": false
   },
   "outputs": [
    {
     "name": "stdout",
     "output_type": "stream",
     "text": [
      "mean: 0.143224101154\n",
      "max: 1.0\n",
      "min: 0.0\n",
      "median: 0.051724137931\n",
      "std 0.217684217385\n",
      "Ads that had click rate less than 0.0001: 46.94%\n",
      "Ads that had click rate less than 0.01: 47.0%\n",
      "Ads that had click rate less than 0.1: 57.23%\n",
      "Ads that had click rate less than 0.2: 72.61%\n",
      "Ads that had click rate less than 0.5: 91.9%\n",
      "Ads that had click rate less than 0.99999: 96.73%\n"
     ]
    },
    {
     "data": {
      "image/png": "[encoded data removed]",
      "text/plain": [
       "<matplotlib.figure.Figure at 0x12de76210>"
      ]
     },
     "metadata": {},
     "output_type": "display_data"
    }
   ],
   "source": [
    "plt.figure(figsize=(12,4))\n",
    "plt.hist(click_rate, bins = 100, log = True)\n",
    "plt.xlabel(\"Click rate\")\n",
    "plt.ylabel(\"Log(Count of ad_id)\")\n",
    "plt.title(\"Click rate\")\n",
    "print \"mean:\", click_rate.mean()\n",
    "print \"max:\", click_rate.max()\n",
    "print \"min:\", click_rate.min()\n",
    "print \"median:\", np.median(click_rate)\n",
    "print \"std\", np.std(click_rate)\n",
    "for i in [0.0001, 0.01, 0.1, 0.2, 0.5, 0.99999]:\n",
    "    print('Ads that had click rate less than {}: {}%'.format(i, round((click_rate < i).mean() * 100, 2)))"
   ]
  },
  {
   "cell_type": "markdown",
   "metadata": {},
   "source": [
    "There are about 46.94% of the ads that had never been clicked, and about 3.27% has click rate 1, which probably had only appeared once or twice. Regularization is needed."
   ]
  },
  {
   "cell_type": "markdown",
   "metadata": {},
   "source": [
    "## Promoted Content"
   ]
  },
  {
   "cell_type": "code",
   "execution_count": 294,
   "metadata": {
    "collapsed": true
   },
   "outputs": [],
   "source": [
    "promoted_content = pd.read_csv('promoted_content.csv')"
   ]
  },
  {
   "cell_type": "code",
   "execution_count": 72,
   "metadata": {
    "collapsed": false
   },
   "outputs": [
    {
     "name": "stdout",
     "output_type": "stream",
     "text": [
      "Is ad_id in clicks_train a subset of ad_id in promoted_content?  True\n",
      "Is ad_id in clicks_test a subset of ad_id in promoted_content?  True\n",
      "Is ad_id in clicks_test a subset of ad_id in clicks_train?  False\n"
     ]
    }
   ],
   "source": [
    "a = set(clicks_train[\"ad_id\"])\n",
    "b = set(clicks_test[\"ad_id\"])\n",
    "c = set(promoted_content[\"ad_id\"])\n",
    "print \"Is ad_id in clicks_train a subset of ad_id in promoted_content? \", a.issubset(c)\n",
    "print \"Is ad_id in clicks_test a subset of ad_id in promoted_content? \", b.issubset(c)\n",
    "print \"Is ad_id in clicks_test a subset of ad_id in clicks_train? \", b.issubset(a)"
   ]
  },
  {
   "cell_type": "code",
   "execution_count": 296,
   "metadata": {
    "collapsed": false
   },
   "outputs": [],
   "source": [
    "promoted_content[\"num_appr\"] = num_appr\n",
    "promoted_content[\"num_click\"] = num_click\n",
    "promoted_content[\"click_rate\"] = click_rate"
   ]
  },
  {
   "cell_type": "code",
   "execution_count": 298,
   "metadata": {
    "collapsed": false
   },
   "outputs": [],
   "source": [
    "promoted_content = promoted_content.fillna(0)"
   ]
  },
  {
   "cell_type": "code",
   "execution_count": 292,
   "metadata": {
    "collapsed": false
   },
   "outputs": [],
   "source": [
    "# promoted_content[\"num_appr\"] = promoted_content[\"num_appr\"] + 100\n",
    "# promoted_content[\"num_click\"] = promoted_content[\"num_click\"] + 2\n",
    "# promoted_content[\"click_rate\"] = (promoted_content[\"num_click\"] + 0.0) / promoted_content[\"num_appr\"]"
   ]
  },
  {
   "cell_type": "code",
   "execution_count": 300,
   "metadata": {
    "collapsed": false
   },
   "outputs": [
    {
     "data": {
      "text/html": [
       "<div>\n",
       "<table border=\"1\" class=\"dataframe\">\n",
       "  <thead>\n",
       "    <tr style=\"text-align: right;\">\n",
       "      <th></th>\n",
       "      <th>ad_id</th>\n",
       "      <th>document_id</th>\n",
       "      <th>campaign_id</th>\n",
       "      <th>advertiser_id</th>\n",
       "      <th>num_appr</th>\n",
       "      <th>num_click</th>\n",
       "      <th>click_rate</th>\n",
       "    </tr>\n",
       "    <tr>\n",
       "      <th>ad_id</th>\n",
       "      <th></th>\n",
       "      <th></th>\n",
       "      <th></th>\n",
       "      <th></th>\n",
       "      <th></th>\n",
       "      <th></th>\n",
       "      <th></th>\n",
       "    </tr>\n",
       "  </thead>\n",
       "  <tbody>\n",
       "    <tr>\n",
       "      <th>1</th>\n",
       "      <td>1</td>\n",
       "      <td>6614</td>\n",
       "      <td>1</td>\n",
       "      <td>7</td>\n",
       "      <td>0.0</td>\n",
       "      <td>0.0</td>\n",
       "      <td>0.000000</td>\n",
       "    </tr>\n",
       "    <tr>\n",
       "      <th>2</th>\n",
       "      <td>2</td>\n",
       "      <td>471467</td>\n",
       "      <td>2</td>\n",
       "      <td>7</td>\n",
       "      <td>2.0</td>\n",
       "      <td>0.0</td>\n",
       "      <td>0.000000</td>\n",
       "    </tr>\n",
       "    <tr>\n",
       "      <th>3</th>\n",
       "      <td>3</td>\n",
       "      <td>7692</td>\n",
       "      <td>3</td>\n",
       "      <td>7</td>\n",
       "      <td>22.0</td>\n",
       "      <td>1.0</td>\n",
       "      <td>0.045455</td>\n",
       "    </tr>\n",
       "    <tr>\n",
       "      <th>4</th>\n",
       "      <td>4</td>\n",
       "      <td>471471</td>\n",
       "      <td>2</td>\n",
       "      <td>7</td>\n",
       "      <td>161.0</td>\n",
       "      <td>11.0</td>\n",
       "      <td>0.068323</td>\n",
       "    </tr>\n",
       "    <tr>\n",
       "      <th>5</th>\n",
       "      <td>5</td>\n",
       "      <td>471472</td>\n",
       "      <td>2</td>\n",
       "      <td>7</td>\n",
       "      <td>32.0</td>\n",
       "      <td>4.0</td>\n",
       "      <td>0.125000</td>\n",
       "    </tr>\n",
       "    <tr>\n",
       "      <th>6</th>\n",
       "      <td>6</td>\n",
       "      <td>12736</td>\n",
       "      <td>1</td>\n",
       "      <td>7</td>\n",
       "      <td>1.0</td>\n",
       "      <td>0.0</td>\n",
       "      <td>0.000000</td>\n",
       "    </tr>\n",
       "    <tr>\n",
       "      <th>7</th>\n",
       "      <td>7</td>\n",
       "      <td>12808</td>\n",
       "      <td>1</td>\n",
       "      <td>7</td>\n",
       "      <td>1.0</td>\n",
       "      <td>0.0</td>\n",
       "      <td>0.000000</td>\n",
       "    </tr>\n",
       "    <tr>\n",
       "      <th>8</th>\n",
       "      <td>8</td>\n",
       "      <td>471477</td>\n",
       "      <td>2</td>\n",
       "      <td>7</td>\n",
       "      <td>3406.0</td>\n",
       "      <td>985.0</td>\n",
       "      <td>0.289196</td>\n",
       "    </tr>\n",
       "    <tr>\n",
       "      <th>9</th>\n",
       "      <td>9</td>\n",
       "      <td>13379</td>\n",
       "      <td>1</td>\n",
       "      <td>7</td>\n",
       "      <td>28.0</td>\n",
       "      <td>4.0</td>\n",
       "      <td>0.142857</td>\n",
       "    </tr>\n",
       "    <tr>\n",
       "      <th>10</th>\n",
       "      <td>10</td>\n",
       "      <td>13885</td>\n",
       "      <td>1</td>\n",
       "      <td>7</td>\n",
       "      <td>3.0</td>\n",
       "      <td>0.0</td>\n",
       "      <td>0.000000</td>\n",
       "    </tr>\n",
       "    <tr>\n",
       "      <th>11</th>\n",
       "      <td>11</td>\n",
       "      <td>14230</td>\n",
       "      <td>1</td>\n",
       "      <td>7</td>\n",
       "      <td>81.0</td>\n",
       "      <td>9.0</td>\n",
       "      <td>0.111111</td>\n",
       "    </tr>\n",
       "    <tr>\n",
       "      <th>12</th>\n",
       "      <td>12</td>\n",
       "      <td>446701</td>\n",
       "      <td>10</td>\n",
       "      <td>19</td>\n",
       "      <td>11.0</td>\n",
       "      <td>0.0</td>\n",
       "      <td>0.000000</td>\n",
       "    </tr>\n",
       "    <tr>\n",
       "      <th>13</th>\n",
       "      <td>13</td>\n",
       "      <td>471499</td>\n",
       "      <td>10</td>\n",
       "      <td>19</td>\n",
       "      <td>12.0</td>\n",
       "      <td>2.0</td>\n",
       "      <td>0.166667</td>\n",
       "    </tr>\n",
       "    <tr>\n",
       "      <th>14</th>\n",
       "      <td>14</td>\n",
       "      <td>471500</td>\n",
       "      <td>10</td>\n",
       "      <td>19</td>\n",
       "      <td>8.0</td>\n",
       "      <td>1.0</td>\n",
       "      <td>0.125000</td>\n",
       "    </tr>\n",
       "    <tr>\n",
       "      <th>15</th>\n",
       "      <td>15</td>\n",
       "      <td>471501</td>\n",
       "      <td>10</td>\n",
       "      <td>19</td>\n",
       "      <td>10.0</td>\n",
       "      <td>1.0</td>\n",
       "      <td>0.100000</td>\n",
       "    </tr>\n",
       "    <tr>\n",
       "      <th>16</th>\n",
       "      <td>16</td>\n",
       "      <td>471514</td>\n",
       "      <td>17</td>\n",
       "      <td>19</td>\n",
       "      <td>2.0</td>\n",
       "      <td>0.0</td>\n",
       "      <td>0.000000</td>\n",
       "    </tr>\n",
       "    <tr>\n",
       "      <th>17</th>\n",
       "      <td>17</td>\n",
       "      <td>471517</td>\n",
       "      <td>10</td>\n",
       "      <td>19</td>\n",
       "      <td>3.0</td>\n",
       "      <td>1.0</td>\n",
       "      <td>0.333333</td>\n",
       "    </tr>\n",
       "    <tr>\n",
       "      <th>18</th>\n",
       "      <td>18</td>\n",
       "      <td>471518</td>\n",
       "      <td>10</td>\n",
       "      <td>19</td>\n",
       "      <td>20.0</td>\n",
       "      <td>2.0</td>\n",
       "      <td>0.100000</td>\n",
       "    </tr>\n",
       "    <tr>\n",
       "      <th>19</th>\n",
       "      <td>19</td>\n",
       "      <td>471519</td>\n",
       "      <td>5</td>\n",
       "      <td>19</td>\n",
       "      <td>9.0</td>\n",
       "      <td>0.0</td>\n",
       "      <td>0.000000</td>\n",
       "    </tr>\n",
       "    <tr>\n",
       "      <th>20</th>\n",
       "      <td>20</td>\n",
       "      <td>446660</td>\n",
       "      <td>21</td>\n",
       "      <td>19</td>\n",
       "      <td>0.0</td>\n",
       "      <td>0.0</td>\n",
       "      <td>0.000000</td>\n",
       "    </tr>\n",
       "  </tbody>\n",
       "</table>\n",
       "</div>"
      ],
      "text/plain": [
       "       ad_id  document_id  campaign_id  advertiser_id  num_appr  num_click  \\\n",
       "ad_id                                                                        \n",
       "1          1         6614            1              7       0.0        0.0   \n",
       "2          2       471467            2              7       2.0        0.0   \n",
       "3          3         7692            3              7      22.0        1.0   \n",
       "4          4       471471            2              7     161.0       11.0   \n",
       "5          5       471472            2              7      32.0        4.0   \n",
       "6          6        12736            1              7       1.0        0.0   \n",
       "7          7        12808            1              7       1.0        0.0   \n",
       "8          8       471477            2              7    3406.0      985.0   \n",
       "9          9        13379            1              7      28.0        4.0   \n",
       "10        10        13885            1              7       3.0        0.0   \n",
       "11        11        14230            1              7      81.0        9.0   \n",
       "12        12       446701           10             19      11.0        0.0   \n",
       "13        13       471499           10             19      12.0        2.0   \n",
       "14        14       471500           10             19       8.0        1.0   \n",
       "15        15       471501           10             19      10.0        1.0   \n",
       "16        16       471514           17             19       2.0        0.0   \n",
       "17        17       471517           10             19       3.0        1.0   \n",
       "18        18       471518           10             19      20.0        2.0   \n",
       "19        19       471519            5             19       9.0        0.0   \n",
       "20        20       446660           21             19       0.0        0.0   \n",
       "\n",
       "       click_rate  \n",
       "ad_id              \n",
       "1        0.000000  \n",
       "2        0.000000  \n",
       "3        0.045455  \n",
       "4        0.068323  \n",
       "5        0.125000  \n",
       "6        0.000000  \n",
       "7        0.000000  \n",
       "8        0.289196  \n",
       "9        0.142857  \n",
       "10       0.000000  \n",
       "11       0.111111  \n",
       "12       0.000000  \n",
       "13       0.166667  \n",
       "14       0.125000  \n",
       "15       0.100000  \n",
       "16       0.000000  \n",
       "17       0.333333  \n",
       "18       0.100000  \n",
       "19       0.000000  \n",
       "20       0.000000  "
      ]
     },
     "execution_count": 300,
     "metadata": {},
     "output_type": "execute_result"
    }
   ],
   "source": [
    "promoted_content.set_index(promoted_content[\"ad_id\"], inplace = True)\n",
    "promoted_content[0:20]"
   ]
  },
  {
   "cell_type": "code",
   "execution_count": 302,
   "metadata": {
    "collapsed": false
   },
   "outputs": [],
   "source": [
    "campaign_ctr = (promoted_content.groupby(\"campaign_id\")[\"num_click\"].sum() + 0.0)/ promoted_content.groupby(\"campaign_id\")[\"num_appr\"].sum()"
   ]
  },
  {
   "cell_type": "code",
   "execution_count": 310,
   "metadata": {
    "collapsed": false
   },
   "outputs": [
    {
     "data": {
      "text/plain": [
       "<matplotlib.text.Text at 0x326ff9f90>"
      ]
     },
     "execution_count": 310,
     "metadata": {},
     "output_type": "execute_result"
    },
    {
     "data": {
      "image/png": "[encoded data removed]",
      "text/plain": [
       "<matplotlib.figure.Figure at 0x336e50410>"
      ]
     },
     "metadata": {},
     "output_type": "display_data"
    }
   ],
   "source": [
    "plt.hist(campaign_ctr[~np.isnan(campaign_ctr)],bins = 50)\n",
    "plt.xlabel(\"Click Through Rate\")"
   ]
  },
  {
   "cell_type": "code",
   "execution_count": 312,
   "metadata": {
    "collapsed": false
   },
   "outputs": [
    {
     "data": {
      "text/plain": [
       "<matplotlib.text.Text at 0x31c6dd2d0>"
      ]
     },
     "execution_count": 312,
     "metadata": {},
     "output_type": "execute_result"
    },
    {
     "data": {
      "image/png": "[encoded data removed]",
      "text/plain": [
       "<matplotlib.figure.Figure at 0x3270a6210>"
      ]
     },
     "metadata": {},
     "output_type": "display_data"
    }
   ],
   "source": [
    "document_ctr = (promoted_content.groupby(\"document_id\")[\"num_click\"].sum() + 0.0)/ promoted_content.groupby(\"document_id\")[\"num_appr\"].sum()\n",
    "plt.hist(document_ctr[~np.isnan(document_ctr)],bins = 50)\n",
    "plt.xlabel(\"Click Through Rate\")"
   ]
  },
  {
   "cell_type": "code",
   "execution_count": 314,
   "metadata": {
    "collapsed": false
   },
   "outputs": [
    {
     "data": {
      "text/plain": [
       "<matplotlib.text.Text at 0x337c0fe90>"
      ]
     },
     "execution_count": 314,
     "metadata": {},
     "output_type": "execute_result"
    },
    {
     "data": {
      "image/png": "[encoded data removed]",
      "text/plain": [
       "<matplotlib.figure.Figure at 0x315b95650>"
      ]
     },
     "metadata": {},
     "output_type": "display_data"
    }
   ],
   "source": [
    "advertiser_ctr = (promoted_content.groupby(\"advertiser_id\")[\"num_click\"].sum() + 0.0)/ promoted_content.groupby(\"advertiser_id\")[\"num_appr\"].sum()\n",
    "plt.hist(advertiser_ctr[~np.isnan(advertiser_ctr)],bins = 50)\n",
    "plt.xlabel(\"Click Through Rate\")"
   ]
  },
  {
   "cell_type": "code",
   "execution_count": 278,
   "metadata": {
    "collapsed": false
   },
   "outputs": [
    {
     "name": "stdout",
     "output_type": "stream",
     "text": [
      "Is every ad_id corresponds to only one document_id?\n",
      "The answer is:  True\n"
     ]
    }
   ],
   "source": [
    "print \"Is every ad_id corresponds to only one document_id?\"\n",
    "a = promoted_content.groupby(\"ad_id\")[\"document_id\"].count()\n",
    "print \"The answer is: \", sum(a) == len(a)"
   ]
  },
  {
   "cell_type": "code",
   "execution_count": 283,
   "metadata": {
    "collapsed": false
   },
   "outputs": [
    {
     "name": "stdout",
     "output_type": "stream",
     "text": [
      "Is every document_id corresponds to only one ad_id?\n",
      "The answer is:  False\n"
     ]
    },
    {
     "data": {
      "text/plain": [
       "<matplotlib.text.Text at 0x358ff2e50>"
      ]
     },
     "execution_count": 283,
     "metadata": {},
     "output_type": "execute_result"
    },
    {
     "data": {
      "image/png": "[encoded data removed]",
      "text/plain": [
       "<matplotlib.figure.Figure at 0x35ece7dd0>"
      ]
     },
     "metadata": {},
     "output_type": "display_data"
    }
   ],
   "source": [
    "print \"Is every document_id corresponds to only one ad_id?\"\n",
    "a = promoted_content.groupby(\"document_id\")[\"ad_id\"].count()\n",
    "print \"The answer is: \", sum(a) == len(a)\n",
    "plt.hist(a,bins = 50, log = True)\n",
    "plt.xlabel(\"Number of ads\")\n",
    "plt.ylabel(\"Log(Count of document_id)\")"
   ]
  },
  {
   "cell_type": "code",
   "execution_count": 286,
   "metadata": {
    "collapsed": false
   },
   "outputs": [
    {
     "name": "stdout",
     "output_type": "stream",
     "text": [
      "Is every ad_id corresponds to only one campaign_id?\n",
      "The answer is:  True\n"
     ]
    }
   ],
   "source": [
    "print \"Is every ad_id corresponds to only one campaign_id?\"\n",
    "a = promoted_content.groupby(\"ad_id\")[\"campaign_id\"].count()\n",
    "print \"The answer is: \", sum(a) == len(a)"
   ]
  },
  {
   "cell_type": "code",
   "execution_count": 288,
   "metadata": {
    "collapsed": false
   },
   "outputs": [
    {
     "name": "stdout",
     "output_type": "stream",
     "text": [
      "Is every campaign_id corresponds to only one ad_id?\n",
      "The answer is:  False\n"
     ]
    },
    {
     "data": {
      "text/plain": [
       "<matplotlib.text.Text at 0x349a12e90>"
      ]
     },
     "execution_count": 288,
     "metadata": {},
     "output_type": "execute_result"
    },
    {
     "data": {
      "image/png": "[encoded data removed]",
      "text/plain": [
       "<matplotlib.figure.Figure at 0x3679114d0>"
      ]
     },
     "metadata": {},
     "output_type": "display_data"
    }
   ],
   "source": [
    "print \"Is every campaign_id corresponds to only one ad_id?\"\n",
    "a = promoted_content.groupby(\"campaign_id\")[\"ad_id\"].count()\n",
    "print \"The answer is: \", sum(a) == len(a)\n",
    "plt.hist(a,bins = 50, log = True)\n",
    "plt.xlabel(\"Number of ads\")\n",
    "plt.ylabel(\"Log(Count of document_id)\")"
   ]
  },
  {
   "cell_type": "markdown",
   "metadata": {},
   "source": [
    "## Events"
   ]
  },
  {
   "cell_type": "code",
   "execution_count": 9,
   "metadata": {
    "collapsed": false
   },
   "outputs": [
    {
     "name": "stderr",
     "output_type": "stream",
     "text": [
      "/Users/jieli/anaconda/lib/python2.7/site-packages/IPython/core/interactiveshell.py:2723: DtypeWarning: Columns (4) have mixed types. Specify dtype option on import or set low_memory=False.\n",
      "  interactivity=interactivity, compiler=compiler, result=result)\n"
     ]
    }
   ],
   "source": [
    "events = pd.read_csv(\"events.csv\")"
   ]
  },
  {
   "cell_type": "code",
   "execution_count": 11,
   "metadata": {
    "collapsed": false
   },
   "outputs": [
    {
     "ename": "AttributeError",
     "evalue": "'DataFrame' object has no attribute 'topics'",
     "output_type": "error",
     "traceback": [
      "\u001b[0;31m---------------------------------------------------------------------------\u001b[0m",
      "\u001b[0;31mAttributeError\u001b[0m                            Traceback (most recent call last)",
      "\u001b[0;32m<ipython-input-11-47d9f157978b>\u001b[0m in \u001b[0;36m<module>\u001b[0;34m()\u001b[0m\n\u001b[0;32m----> 1\u001b[0;31m \u001b[0mevents\u001b[0m\u001b[0;34m.\u001b[0m\u001b[0mtopics\u001b[0m\u001b[0;34m\u001b[0m\u001b[0m\n\u001b[0m",
      "\u001b[0;32m/Users/jieli/anaconda/lib/python2.7/site-packages/pandas/core/generic.pyc\u001b[0m in \u001b[0;36m__getattr__\u001b[0;34m(self, name)\u001b[0m\n\u001b[1;32m   2670\u001b[0m             \u001b[0;32mif\u001b[0m \u001b[0mname\u001b[0m \u001b[0;32min\u001b[0m \u001b[0mself\u001b[0m\u001b[0;34m.\u001b[0m\u001b[0m_info_axis\u001b[0m\u001b[0;34m:\u001b[0m\u001b[0;34m\u001b[0m\u001b[0m\n\u001b[1;32m   2671\u001b[0m                 \u001b[0;32mreturn\u001b[0m \u001b[0mself\u001b[0m\u001b[0;34m[\u001b[0m\u001b[0mname\u001b[0m\u001b[0;34m]\u001b[0m\u001b[0;34m\u001b[0m\u001b[0m\n\u001b[0;32m-> 2672\u001b[0;31m             \u001b[0;32mreturn\u001b[0m \u001b[0mobject\u001b[0m\u001b[0;34m.\u001b[0m\u001b[0m__getattribute__\u001b[0m\u001b[0;34m(\u001b[0m\u001b[0mself\u001b[0m\u001b[0;34m,\u001b[0m \u001b[0mname\u001b[0m\u001b[0;34m)\u001b[0m\u001b[0;34m\u001b[0m\u001b[0m\n\u001b[0m\u001b[1;32m   2673\u001b[0m \u001b[0;34m\u001b[0m\u001b[0m\n\u001b[1;32m   2674\u001b[0m     \u001b[0;32mdef\u001b[0m \u001b[0m__setattr__\u001b[0m\u001b[0;34m(\u001b[0m\u001b[0mself\u001b[0m\u001b[0;34m,\u001b[0m \u001b[0mname\u001b[0m\u001b[0;34m,\u001b[0m \u001b[0mvalue\u001b[0m\u001b[0;34m)\u001b[0m\u001b[0;34m:\u001b[0m\u001b[0;34m\u001b[0m\u001b[0m\n",
      "\u001b[0;31mAttributeError\u001b[0m: 'DataFrame' object has no attribute 'topics'"
     ]
    }
   ],
   "source": [
    "events"
   ]
  },
  {
   "cell_type": "code",
   "execution_count": 1,
   "metadata": {
    "collapsed": false
   },
   "outputs": [
    {
     "ename": "NameError",
     "evalue": "name 'clicks_train' is not defined",
     "output_type": "error",
     "traceback": [
      "\u001b[0;31m---------------------------------------------------------------------------\u001b[0m",
      "\u001b[0;31mNameError\u001b[0m                                 Traceback (most recent call last)",
      "\u001b[0;32m<ipython-input-1-5da5e0e37a64>\u001b[0m in \u001b[0;36m<module>\u001b[0;34m()\u001b[0m\n\u001b[0;32m----> 1\u001b[0;31m \u001b[0mclicks_train\u001b[0m\u001b[0;34m[\u001b[0m\u001b[0;36m1\u001b[0m\u001b[0;34m:\u001b[0m\u001b[0;36m100\u001b[0m\u001b[0;34m]\u001b[0m\u001b[0;34m\u001b[0m\u001b[0m\n\u001b[0m",
      "\u001b[0;31mNameError\u001b[0m: name 'clicks_train' is not defined"
     ]
    }
   ],
   "source": [
    "clicks_train[1:100]"
   ]
  },
  {
   "cell_type": "code",
   "execution_count": 356,
   "metadata": {
    "collapsed": false
   },
   "outputs": [
    {
     "data": {
      "text/html": [
       "<div>\n",
       "<table border=\"1\" class=\"dataframe\">\n",
       "  <thead>\n",
       "    <tr style=\"text-align: right;\">\n",
       "      <th></th>\n",
       "      <th>ad_id</th>\n",
       "      <th>document_id</th>\n",
       "      <th>campaign_id</th>\n",
       "      <th>advertiser_id</th>\n",
       "      <th>num_appr</th>\n",
       "      <th>num_click</th>\n",
       "      <th>click_rate</th>\n",
       "    </tr>\n",
       "    <tr>\n",
       "      <th>ad_id</th>\n",
       "      <th></th>\n",
       "      <th></th>\n",
       "      <th></th>\n",
       "      <th></th>\n",
       "      <th></th>\n",
       "      <th></th>\n",
       "      <th></th>\n",
       "    </tr>\n",
       "  </thead>\n",
       "  <tbody>\n",
       "    <tr>\n",
       "      <th>144739</th>\n",
       "      <td>144739</td>\n",
       "      <td>1337362</td>\n",
       "      <td>18488</td>\n",
       "      <td>2909</td>\n",
       "      <td>1.0</td>\n",
       "      <td>0.0</td>\n",
       "      <td>0.0</td>\n",
       "    </tr>\n",
       "  </tbody>\n",
       "</table>\n",
       "</div>"
      ],
      "text/plain": [
       "         ad_id  document_id  campaign_id  advertiser_id  num_appr  num_click  \\\n",
       "ad_id                                                                          \n",
       "144739  144739      1337362        18488           2909       1.0        0.0   \n",
       "\n",
       "        click_rate  \n",
       "ad_id               \n",
       "144739         0.0  "
      ]
     },
     "execution_count": 356,
     "metadata": {},
     "output_type": "execute_result"
    }
   ],
   "source": [
    "promoted_content[promoted_content[\"ad_id\"] == 144739]"
   ]
  },
  {
   "cell_type": "code",
   "execution_count": 12,
   "metadata": {
    "collapsed": false
   },
   "outputs": [],
   "source": [
    "documents_topics = pd.read_csv(\"documents_topics.csv\")"
   ]
  },
  {
   "cell_type": "code",
   "execution_count": 18,
   "metadata": {
    "collapsed": false
   },
   "outputs": [
    {
     "data": {
      "text/plain": [
       "2495423"
      ]
     },
     "execution_count": 18,
     "metadata": {},
     "output_type": "execute_result"
    }
   ],
   "source": [
    "len(documents_topics[\"document_id\"].unique())"
   ]
  },
  {
   "cell_type": "code",
   "execution_count": 357,
   "metadata": {
    "collapsed": false
   },
   "outputs": [
    {
     "data": {
      "text/html": [
       "<div>\n",
       "<table border=\"1\" class=\"dataframe\">\n",
       "  <thead>\n",
       "    <tr style=\"text-align: right;\">\n",
       "      <th></th>\n",
       "      <th>document_id</th>\n",
       "      <th>topic_id</th>\n",
       "      <th>confidence_level</th>\n",
       "    </tr>\n",
       "  </thead>\n",
       "  <tbody>\n",
       "    <tr>\n",
       "      <th>10960736</th>\n",
       "      <td>1337362</td>\n",
       "      <td>131</td>\n",
       "      <td>0.272269</td>\n",
       "    </tr>\n",
       "    <tr>\n",
       "      <th>10960737</th>\n",
       "      <td>1337362</td>\n",
       "      <td>198</td>\n",
       "      <td>0.212531</td>\n",
       "    </tr>\n",
       "  </tbody>\n",
       "</table>\n",
       "</div>"
      ],
      "text/plain": [
       "          document_id  topic_id  confidence_level\n",
       "10960736      1337362       131          0.272269\n",
       "10960737      1337362       198          0.212531"
      ]
     },
     "execution_count": 357,
     "metadata": {},
     "output_type": "execute_result"
    }
   ],
   "source": [
    "documents_topics[documents_topics[\"document_id\"] == 1337362]"
   ]
  },
  {
   "cell_type": "code",
   "execution_count": 359,
   "metadata": {
    "collapsed": false
   },
   "outputs": [
    {
     "data": {
      "text/plain": [
       "559583"
      ]
     },
     "execution_count": 359,
     "metadata": {},
     "output_type": "execute_result"
    }
   ],
   "source": [
    "len(promoted_content)"
   ]
  },
  {
   "cell_type": "code",
   "execution_count": 8,
   "metadata": {
    "collapsed": false
   },
   "outputs": [
    {
     "ename": "NameError",
     "evalue": "name 'events' is not defined",
     "output_type": "error",
     "traceback": [
      "\u001b[0;31m---------------------------------------------------------------------------\u001b[0m",
      "\u001b[0;31mNameError\u001b[0m                                 Traceback (most recent call last)",
      "\u001b[0;32m<ipython-input-8-bb684a3229af>\u001b[0m in \u001b[0;36m<module>\u001b[0;34m()\u001b[0m\n\u001b[0;32m----> 1\u001b[0;31m \u001b[0mevents\u001b[0m\u001b[0;34m.\u001b[0m\u001b[0mhead\u001b[0m\u001b[0;34m(\u001b[0m\u001b[0;34m)\u001b[0m\u001b[0;34m\u001b[0m\u001b[0m\n\u001b[0m",
      "\u001b[0;31mNameError\u001b[0m: name 'events' is not defined"
     ]
    }
   ],
   "source": [
    "events.head()"
   ]
  },
  {
   "cell_type": "code",
   "execution_count": null,
   "metadata": {
    "collapsed": true
   },
   "outputs": [],
   "source": []
  },
  {
   "cell_type": "code",
   "execution_count": null,
   "metadata": {
    "collapsed": true
   },
   "outputs": [],
   "source": []
  },
  {
   "cell_type": "code",
   "execution_count": null,
   "metadata": {
    "collapsed": true
   },
   "outputs": [],
   "source": []
  },
  {
   "cell_type": "code",
   "execution_count": null,
   "metadata": {
    "collapsed": true
   },
   "outputs": [],
   "source": []
  },
  {
   "cell_type": "code",
   "execution_count": null,
   "metadata": {
    "collapsed": true
   },
   "outputs": [],
   "source": []
  },
  {
   "cell_type": "code",
   "execution_count": null,
   "metadata": {
    "collapsed": true
   },
   "outputs": [],
   "source": []
  },
  {
   "cell_type": "code",
   "execution_count": null,
   "metadata": {
    "collapsed": true
   },
   "outputs": [],
   "source": []
  },
  {
   "cell_type": "code",
   "execution_count": null,
   "metadata": {
    "collapsed": true
   },
   "outputs": [],
   "source": []
  },
  {
   "cell_type": "code",
   "execution_count": null,
   "metadata": {
    "collapsed": true
   },
   "outputs": [],
   "source": []
  },
  {
   "cell_type": "code",
   "execution_count": null,
   "metadata": {
    "collapsed": true
   },
   "outputs": [],
   "source": []
  },
  {
   "cell_type": "code",
   "execution_count": 202,
   "metadata": {
    "collapsed": true
   },
   "outputs": [],
   "source": [
    "def get_prob(k):\n",
    "    return cc[k]"
   ]
  },
  {
   "cell_type": "code",
   "execution_count": 206,
   "metadata": {
    "collapsed": false
   },
   "outputs": [],
   "source": [
    "p = clicks_test.groupby('display_id').ad_id.apply(list)"
   ]
  },
  {
   "cell_type": "code",
   "execution_count": 207,
   "metadata": {
    "collapsed": false
   },
   "outputs": [
    {
     "name": "stdout",
     "output_type": "stream",
     "text": [
      "0.0016011443699\n",
      "0.00320228873981\n",
      "0.00480343310971\n",
      "0.00640457747962\n",
      "0.00800572184952\n",
      "0.00960686621942\n",
      "0.0112080105893\n",
      "0.0128091549592\n",
      "0.0144102993291\n",
      "0.016011443699\n",
      "0.0176125880689\n",
      "0.0192137324388\n",
      "0.0208148768088\n",
      "0.0224160211787\n",
      "0.0240171655486\n",
      "0.0256183099185\n",
      "0.0272194542884\n",
      "0.0288205986583\n",
      "0.0304217430282\n",
      "0.0320228873981\n",
      "0.033624031768\n",
      "0.0352251761379\n",
      "0.0368263205078\n",
      "0.0384274648777\n",
      "0.0400286092476\n",
      "0.0416297536175\n",
      "0.0432308979874\n",
      "0.0448320423573\n",
      "0.0464331867272\n",
      "0.0480343310971\n",
      "0.049635475467\n",
      "0.0512366198369\n",
      "0.0528377642068\n",
      "0.0544389085767\n",
      "0.0560400529466\n",
      "0.0576411973165\n",
      "0.0592423416865\n",
      "0.0608434860564\n",
      "0.0624446304263\n",
      "0.0640457747962\n",
      "0.0656469191661\n",
      "0.067248063536\n",
      "0.0688492079059\n",
      "0.0704503522758\n",
      "0.0720514966457\n",
      "0.0736526410156\n",
      "0.0752537853855\n",
      "0.0768549297554\n",
      "0.0784560741253\n",
      "0.0800572184952\n",
      "0.0816583628651\n",
      "0.083259507235\n",
      "0.0848606516049\n",
      "0.0864617959748\n",
      "0.0880629403447\n",
      "0.0896640847146\n",
      "0.0912652290845\n",
      "0.0928663734544\n",
      "0.0944675178243\n",
      "0.0960686621942\n",
      "0.0976698065641\n",
      "0.0992709509341\n",
      "0.100872095304\n",
      "0.102473239674\n",
      "0.104074384044\n",
      "0.105675528414\n",
      "0.107276672784\n",
      "0.108877817153\n",
      "0.110478961523\n",
      "0.112080105893\n",
      "0.113681250263\n",
      "0.115282394633\n",
      "0.116883539003\n",
      "0.118484683373\n",
      "0.120085827743\n",
      "0.121686972113\n",
      "0.123288116483\n",
      "0.124889260853\n",
      "0.126490405222\n",
      "0.128091549592\n",
      "0.129692693962\n",
      "0.131293838332\n",
      "0.132894982702\n",
      "0.134496127072\n",
      "0.136097271442\n",
      "0.137698415812\n",
      "0.139299560182\n",
      "0.140900704552\n",
      "0.142501848921\n",
      "0.144102993291\n",
      "0.145704137661\n",
      "0.147305282031\n",
      "0.148906426401\n",
      "0.150507570771\n",
      "0.152108715141\n",
      "0.153709859511\n",
      "0.155311003881\n",
      "0.156912148251\n",
      "0.158513292621\n",
      "0.16011443699\n",
      "0.16171558136\n",
      "0.16331672573\n",
      "0.1649178701\n",
      "0.16651901447\n",
      "0.16812015884\n",
      "0.16972130321\n",
      "0.17132244758\n",
      "0.17292359195\n",
      "0.17452473632\n",
      "0.176125880689\n",
      "0.177727025059\n",
      "0.179328169429\n",
      "0.180929313799\n",
      "0.182530458169\n",
      "0.184131602539\n",
      "0.185732746909\n",
      "0.187333891279\n",
      "0.188935035649\n",
      "0.190536180019\n",
      "0.192137324388\n",
      "0.193738468758\n",
      "0.195339613128\n",
      "0.196940757498\n",
      "0.198541901868\n",
      "0.200143046238\n",
      "0.201744190608\n",
      "0.203345334978\n",
      "0.204946479348\n",
      "0.206547623718\n",
      "0.208148768088\n",
      "0.209749912457\n",
      "0.211351056827\n",
      "0.212952201197\n",
      "0.214553345567\n",
      "0.216154489937\n",
      "0.217755634307\n",
      "0.219356778677\n",
      "0.220957923047\n",
      "0.222559067417\n",
      "0.224160211787\n",
      "0.225761356156\n",
      "0.227362500526\n",
      "0.228963644896\n",
      "0.230564789266\n",
      "0.232165933636\n",
      "0.233767078006\n",
      "0.235368222376\n",
      "0.236969366746\n",
      "0.238570511116\n",
      "0.240171655486\n",
      "0.241772799856\n",
      "0.243373944225\n",
      "0.244975088595\n",
      "0.246576232965\n",
      "0.248177377335\n",
      "0.249778521705\n",
      "0.251379666075\n",
      "0.252980810445\n",
      "0.254581954815\n",
      "0.256183099185\n",
      "0.257784243555\n",
      "0.259385387924\n",
      "0.260986532294\n",
      "0.262587676664\n",
      "0.264188821034\n",
      "0.265789965404\n",
      "0.267391109774\n",
      "0.268992254144\n",
      "0.270593398514\n",
      "0.272194542884\n",
      "0.273795687254\n",
      "0.275396831623\n",
      "0.276997975993\n",
      "0.278599120363\n",
      "0.280200264733\n",
      "0.281801409103\n",
      "0.283402553473\n",
      "0.285003697843\n",
      "0.286604842213\n",
      "0.288205986583\n",
      "0.289807130953\n",
      "0.291408275323\n",
      "0.293009419692\n",
      "0.294610564062\n",
      "0.296211708432\n",
      "0.297812852802\n",
      "0.299413997172\n",
      "0.301015141542\n",
      "0.302616285912\n",
      "0.304217430282\n",
      "0.305818574652\n",
      "0.307419719022\n",
      "0.309020863391\n",
      "0.310622007761\n",
      "0.312223152131\n",
      "0.313824296501\n",
      "0.315425440871\n",
      "0.317026585241\n",
      "0.318627729611\n",
      "0.320228873981\n",
      "0.321830018351\n",
      "0.323431162721\n",
      "0.325032307091\n",
      "0.32663345146\n",
      "0.32823459583\n",
      "0.3298357402\n",
      "0.33143688457\n",
      "0.33303802894\n",
      "0.33463917331\n",
      "0.33624031768\n",
      "0.33784146205\n",
      "0.33944260642\n",
      "0.34104375079\n",
      "0.342644895159\n",
      "0.344246039529\n",
      "0.345847183899\n",
      "0.347448328269\n",
      "0.349049472639\n",
      "0.350650617009\n",
      "0.352251761379\n",
      "0.353852905749\n",
      "0.355454050119\n",
      "0.357055194489\n",
      "0.358656338859\n",
      "0.360257483228\n",
      "0.361858627598\n",
      "0.363459771968\n",
      "0.365060916338\n",
      "0.366662060708\n",
      "0.368263205078\n",
      "0.369864349448\n",
      "0.371465493818\n",
      "0.373066638188\n",
      "0.374667782558\n",
      "0.376268926927\n",
      "0.377870071297\n",
      "0.379471215667\n",
      "0.381072360037\n",
      "0.382673504407\n",
      "0.384274648777\n",
      "0.385875793147\n",
      "0.387476937517\n",
      "0.389078081887\n",
      "0.390679226257\n",
      "0.392280370626\n",
      "0.393881514996\n",
      "0.395482659366\n",
      "0.397083803736\n",
      "0.398684948106\n",
      "0.400286092476\n",
      "0.401887236846\n",
      "0.403488381216\n",
      "0.405089525586\n",
      "0.406690669956\n",
      "0.408291814326\n",
      "0.409892958695\n",
      "0.411494103065\n",
      "0.413095247435\n",
      "0.414696391805\n",
      "0.416297536175\n",
      "0.417898680545\n",
      "0.419499824915\n",
      "0.421100969285\n",
      "0.422702113655\n",
      "0.424303258025\n",
      "0.425904402394\n",
      "0.427505546764\n",
      "0.429106691134\n",
      "0.430707835504\n",
      "0.432308979874\n",
      "0.433910124244\n",
      "0.435511268614\n",
      "0.437112412984\n",
      "0.438713557354\n",
      "0.440314701724\n",
      "0.441915846094\n",
      "0.443516990463\n",
      "0.445118134833\n",
      "0.446719279203\n",
      "0.448320423573\n",
      "0.449921567943\n",
      "0.451522712313\n",
      "0.453123856683\n",
      "0.454725001053\n",
      "0.456326145423\n",
      "0.457927289793\n",
      "0.459528434162\n",
      "0.461129578532\n",
      "0.462730722902\n",
      "0.464331867272\n",
      "0.465933011642\n",
      "0.467534156012\n",
      "0.469135300382\n",
      "0.470736444752\n",
      "0.472337589122\n",
      "0.473938733492\n",
      "0.475539877862\n",
      "0.477141022231\n",
      "0.478742166601\n",
      "0.480343310971\n",
      "0.481944455341\n",
      "0.483545599711\n",
      "0.485146744081\n",
      "0.486747888451\n",
      "0.488349032821\n",
      "0.489950177191\n",
      "0.491551321561\n",
      "0.49315246593\n",
      "0.4947536103\n",
      "0.49635475467\n",
      "0.49795589904\n",
      "0.49955704341\n",
      "0.50115818778\n",
      "0.50275933215\n",
      "0.50436047652\n",
      "0.50596162089\n",
      "0.50756276526\n",
      "0.509163909629\n",
      "0.510765053999\n",
      "0.512366198369\n",
      "0.513967342739\n",
      "0.515568487109\n",
      "0.517169631479\n",
      "0.518770775849\n",
      "0.520371920219\n",
      "0.521973064589\n",
      "0.523574208959\n",
      "0.525175353329\n",
      "0.526776497698\n",
      "0.528377642068\n",
      "0.529978786438\n",
      "0.531579930808\n",
      "0.533181075178\n",
      "0.534782219548\n",
      "0.536383363918\n",
      "0.537984508288\n",
      "0.539585652658\n",
      "0.541186797028\n",
      "0.542787941397\n",
      "0.544389085767\n",
      "0.545990230137\n",
      "0.547591374507\n",
      "0.549192518877\n",
      "0.550793663247\n",
      "0.552394807617\n",
      "0.553995951987\n",
      "0.555597096357\n",
      "0.557198240727\n",
      "0.558799385097\n",
      "0.560400529466\n",
      "0.562001673836\n",
      "0.563602818206\n",
      "0.565203962576\n",
      "0.566805106946\n",
      "0.568406251316\n",
      "0.570007395686\n",
      "0.571608540056\n",
      "0.573209684426\n",
      "0.574810828796\n",
      "0.576411973165\n",
      "0.578013117535\n",
      "0.579614261905\n",
      "0.581215406275\n",
      "0.582816550645\n",
      "0.584417695015\n",
      "0.586018839385\n",
      "0.587619983755\n",
      "0.589221128125\n",
      "0.590822272495\n",
      "0.592423416865\n",
      "0.594024561234\n",
      "0.595625705604\n",
      "0.597226849974\n",
      "0.598827994344\n",
      "0.600429138714\n",
      "0.602030283084\n",
      "0.603631427454\n",
      "0.605232571824\n",
      "0.606833716194\n",
      "0.608434860564\n",
      "0.610036004933\n",
      "0.611637149303\n",
      "0.613238293673\n",
      "0.614839438043\n",
      "0.616440582413\n",
      "0.618041726783\n",
      "0.619642871153\n",
      "0.621244015523\n",
      "0.622845159893\n",
      "0.624446304263\n",
      "0.626047448632\n",
      "0.627648593002\n",
      "0.629249737372\n",
      "0.630850881742\n",
      "0.632452026112\n",
      "0.634053170482\n",
      "0.635654314852\n",
      "0.637255459222\n",
      "0.638856603592\n",
      "0.640457747962\n",
      "0.642058892332\n",
      "0.643660036701\n",
      "0.645261181071\n",
      "0.646862325441\n",
      "0.648463469811\n",
      "0.650064614181\n",
      "0.651665758551\n",
      "0.653266902921\n",
      "0.654868047291\n",
      "0.656469191661\n",
      "0.658070336031\n",
      "0.6596714804\n",
      "0.66127262477\n",
      "0.66287376914\n",
      "0.66447491351\n",
      "0.66607605788\n",
      "0.66767720225\n",
      "0.66927834662\n",
      "0.67087949099\n",
      "0.67248063536\n",
      "0.67408177973\n",
      "0.6756829241\n",
      "0.677284068469\n",
      "0.678885212839\n",
      "0.680486357209\n",
      "0.682087501579\n",
      "0.683688645949\n",
      "0.685289790319\n",
      "0.686890934689\n",
      "0.688492079059\n",
      "0.690093223429\n",
      "0.691694367799\n",
      "0.693295512168\n",
      "0.694896656538\n",
      "0.696497800908\n",
      "0.698098945278\n",
      "0.699700089648\n",
      "0.701301234018\n",
      "0.702902378388\n",
      "0.704503522758\n",
      "0.706104667128\n",
      "0.707705811498\n",
      "0.709306955867\n",
      "0.710908100237\n",
      "0.712509244607\n",
      "0.714110388977\n",
      "0.715711533347\n",
      "0.717312677717\n",
      "0.718913822087\n",
      "0.720514966457\n",
      "0.722116110827\n",
      "0.723717255197\n",
      "0.725318399567\n",
      "0.726919543936\n",
      "0.728520688306\n",
      "0.730121832676\n",
      "0.731722977046\n",
      "0.733324121416\n",
      "0.734925265786\n",
      "0.736526410156\n",
      "0.738127554526\n",
      "0.739728698896\n",
      "0.741329843266\n",
      "0.742930987635\n",
      "0.744532132005\n",
      "0.746133276375\n",
      "0.747734420745\n",
      "0.749335565115\n",
      "0.750936709485\n",
      "0.752537853855\n",
      "0.754138998225\n",
      "0.755740142595\n",
      "0.757341286965\n",
      "0.758942431335\n",
      "0.760543575704\n",
      "0.762144720074\n",
      "0.763745864444\n",
      "0.765347008814\n",
      "0.766948153184\n",
      "0.768549297554\n",
      "0.770150441924\n",
      "0.771751586294\n",
      "0.773352730664\n",
      "0.774953875034\n",
      "0.776555019403\n",
      "0.778156163773\n",
      "0.779757308143\n",
      "0.781358452513\n",
      "0.782959596883\n",
      "0.784560741253\n",
      "0.786161885623\n",
      "0.787763029993\n",
      "0.789364174363\n",
      "0.790965318733\n",
      "0.792566463103\n",
      "0.794167607472\n",
      "0.795768751842\n",
      "0.797369896212\n",
      "0.798971040582\n",
      "0.800572184952\n",
      "0.802173329322\n",
      "0.803774473692\n",
      "0.805375618062\n",
      "0.806976762432\n",
      "0.808577906802\n",
      "0.810179051171\n",
      "0.811780195541\n",
      "0.813381339911\n",
      "0.814982484281\n",
      "0.816583628651\n",
      "0.818184773021\n",
      "0.819785917391\n",
      "0.821387061761\n",
      "0.822988206131\n",
      "0.824589350501\n",
      "0.82619049487\n",
      "0.82779163924\n",
      "0.82939278361\n",
      "0.83099392798\n",
      "0.83259507235\n",
      "0.83419621672\n",
      "0.83579736109\n",
      "0.83739850546\n",
      "0.83899964983\n",
      "0.8406007942\n",
      "0.84220193857\n",
      "0.843803082939\n",
      "0.845404227309\n",
      "0.847005371679\n",
      "0.848606516049\n",
      "0.850207660419\n",
      "0.851808804789\n",
      "0.853409949159\n",
      "0.855011093529\n",
      "0.856612237899\n",
      "0.858213382269\n",
      "0.859814526638\n",
      "0.861415671008\n",
      "0.863016815378\n",
      "0.864617959748\n",
      "0.866219104118\n",
      "0.867820248488\n",
      "0.869421392858\n",
      "0.871022537228\n",
      "0.872623681598\n",
      "0.874224825968\n",
      "0.875825970338\n",
      "0.877427114707\n",
      "0.879028259077\n",
      "0.880629403447\n",
      "0.882230547817\n",
      "0.883831692187\n",
      "0.885432836557\n",
      "0.887033980927\n",
      "0.888635125297\n",
      "0.890236269667\n",
      "0.891837414037\n",
      "0.893438558406\n",
      "0.895039702776\n",
      "0.896640847146\n",
      "0.898241991516\n",
      "0.899843135886\n",
      "0.901444280256\n",
      "0.903045424626\n",
      "0.904646568996\n",
      "0.906247713366\n",
      "0.907848857736\n",
      "0.909450002106\n",
      "0.911051146475\n",
      "0.912652290845\n",
      "0.914253435215\n",
      "0.915854579585\n",
      "0.917455723955\n",
      "0.919056868325\n",
      "0.920658012695\n",
      "0.922259157065\n",
      "0.923860301435\n",
      "0.925461445805\n",
      "0.927062590174\n",
      "0.928663734544\n",
      "0.930264878914\n",
      "0.931866023284\n",
      "0.933467167654\n",
      "0.935068312024\n",
      "0.936669456394\n",
      "0.938270600764\n",
      "0.939871745134\n",
      "0.941472889504\n",
      "0.943074033873\n",
      "0.944675178243\n",
      "0.946276322613\n",
      "0.947877466983\n",
      "0.949478611353\n",
      "0.951079755723\n",
      "0.952680900093\n",
      "0.954282044463\n",
      "0.955883188833\n",
      "0.957484333203\n",
      "0.959085477573\n",
      "0.960686621942\n",
      "0.962287766312\n",
      "0.963888910682\n",
      "0.965490055052\n",
      "0.967091199422\n",
      "0.968692343792\n",
      "0.970293488162\n",
      "0.971894632532\n",
      "0.973495776902\n",
      "0.975096921272\n",
      "0.976698065641\n",
      "0.978299210011\n",
      "0.979900354381\n",
      "0.981501498751\n",
      "0.983102643121\n",
      "0.984703787491\n",
      "0.986304931861\n",
      "0.987906076231\n",
      "0.989507220601\n",
      "0.991108364971\n",
      "0.992709509341\n",
      "0.99431065371\n",
      "0.99591179808\n",
      "0.99751294245\n",
      "0.99911408682\n"
     ]
    }
   ],
   "source": [
    "ss = 1\n",
    "for x in p.index:\n",
    "    p[x] = sorted(p[x], key=get_prob, reverse=True)\n",
    "    p[x] = \" \".join([str(i) for i in p[x]])\n",
    "    ss += 1\n",
    "    if ss%10000 == 0:\n",
    "        print (ss + 0.0)/len(p)\n",
    "\n",
    "subm = pd.DataFrame(p.index)\n",
    "subm[\"ad_id\"] = p.values"
   ]
  }
 ],
 "metadata": {
  "anaconda-cloud": {},
  "kernelspec": {
   "display_name": "Python [Root]",
   "language": "python",
   "name": "Python [Root]"
  },
  "language_info": {
   "codemirror_mode": {
    "name": "ipython",
    "version": 2
   },
   "file_extension": ".py",
   "mimetype": "text/x-python",
   "name": "python",
   "nbconvert_exporter": "python",
   "pygments_lexer": "ipython2",
   "version": "2.7.11"
  }
 },
 "nbformat": 4,
 "nbformat_minor": 0
}
